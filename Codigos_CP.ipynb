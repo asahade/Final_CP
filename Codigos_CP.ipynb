{
 "cells": [
  {
   "cell_type": "markdown",
   "metadata": {},
   "source": [
    "# Final Computación Paralela: \n",
    "   ## Códigos"
   ]
  },
  {
   "cell_type": "code",
   "execution_count": null,
   "metadata": {},
   "outputs": [],
   "source": [
    "import h5py\n",
    "import numpy as np\n",
    "from numba import njit, jit\n",
    "from concurrent.futures import ProcessPoolExecutor as PE\n",
    "from joblib import Parallel, delayed\n",
    "from multiprocessing import Pool\n",
    "%load_ext line_profiler"
   ]
  },
  {
   "cell_type": "markdown",
   "metadata": {},
   "source": [
    "Se presentan los códigos y sus mejoras, los casos ''Numba'' salen de aplicar los decoradores comentados al comienzo de cada línea."
   ]
  },
  {
   "cell_type": "markdown",
   "metadata": {},
   "source": [
    "La función **tray_0** es la utilizada para Py$_0$ y Py$_\\textrm{N}$ (cuando @jit no está comentado)"
   ]
  },
  {
   "cell_type": "code",
   "execution_count": null,
   "metadata": {},
   "outputs": [],
   "source": [
    "#@jit\n",
    "def tray_0(i):\n",
    "    if   i < 10 :       # Poner el path que corresponda\n",
    "        f = h5py.File('b2y280x2fC/AAA_cme_hdf5_plt_cnt_000'+str(i),'r')\n",
    "    elif i < 100 :\n",
    "        f = h5py.File('b2y280x2fC/AAA_cme_hdf5_plt_cnt_00'+str(i),'r')\n",
    "    else :\n",
    "        f = h5py.File('b2y280x2fC/AAA_cme_hdf5_plt_cnt_0'+str(i),'r')\n",
    "        \n",
    "    time=i*20\n",
    "    # ---->\n",
    "    nxb  = list(f['integer scalars'][0])[1]     # Número de celdas en x\n",
    "    nyb  = list(f['integer scalars'][1])[1]     # Número de celdas en y\n",
    "    boundb = f['bounding box'][:,:,:]           # Coordenadas borde de cada bloque\n",
    "    Bmax = np.max(np.abs(f['magz'][:,0,:,:]))   # campo |Bz| \n",
    "    \n",
    "    # ---->\n",
    "    ind, yid, xid =np.where(np.abs(f['magz'][:,0,:,:])==Bmax)\n",
    "    # ---\n",
    "    xlb = boundb[ind[0],0,0]                    #límites del bloque del FR\n",
    "    xrb = boundb[ind[0],0,1]\n",
    "    ylb = boundb[ind[0],1,0]\n",
    "    yrb = boundb[ind[0],1,1]\n",
    "    # ---->\n",
    "    celx = xlb+xid[0]*(xrb-xlb)/nxb             # Posición (x,y)\n",
    "    cely = ylb+yid[0]*(yrb-ylb)/nyb\n",
    "    # ---->\n",
    "    return [time, celx*10**(-8), cely*10**(-8), Bmax]"
   ]
  },
  {
   "cell_type": "code",
   "execution_count": null,
   "metadata": {},
   "outputs": [],
   "source": [
    "%%timeit\n",
    "out = open('b2y280x2fC_0.txt', 'w')\n",
    "for i in range(201):\n",
    "    t, x, y, Bmax = tray_0(i)\n",
    "    out.write(\"%d \\t %f \\t %f \\t %f \\n\" %(t, x, y, Bmax)) \n",
    "out.close()"
   ]
  },
  {
   "cell_type": "markdown",
   "metadata": {},
   "source": [
    "Para realizar las mejoras se utiliza un line profiler que permite calcular la demora y los hits de cada linea de código."
   ]
  },
  {
   "cell_type": "code",
   "execution_count": null,
   "metadata": {},
   "outputs": [],
   "source": [
    "%lprun -f tray_0 tray_0(200)"
   ]
  },
  {
   "cell_type": "markdown",
   "metadata": {},
   "source": [
    "Se realizan mejoras del algoritmo. Las funciones **tray_1** con **MaxIdx** son las utilizadas para Py$_A$ y Py$_\\textrm{N+A}$ (cuando @jit no está comentado)"
   ]
  },
  {
   "cell_type": "code",
   "execution_count": null,
   "metadata": {},
   "outputs": [],
   "source": [
    "#@jit\n",
    "def MaxIdx(a):\n",
    "    return np.unravel_index(np.argmax(a), a.shape)\n",
    "#@jit\n",
    "def tray_1(i,path='b2y280x2fC'):\n",
    "    f      = h5py.File(path+'/AAA_cme_hdf5_plt_cnt_{:04d}'.format(i), 'r')          \n",
    "\n",
    "    # ---->\n",
    "    nxb  = list(f['integer scalars'][0])[1]     # Número de celdas en x\n",
    "    nyb  = list(f['integer scalars'][1])[1]     # Número de celdas en y\n",
    "    Bz   = np.abs(f['magz'][:,0,:,:])           # Campo |Bz| \n",
    "    # ---->\n",
    "    # Indice, posición y-x del bloque con Bz máximo.\n",
    "    ind, yid, xid = MaxIdx(Bz) \n",
    "    # ---->\n",
    "    Bmax = Bz[ind,yid,xid] # Campo máximo (módulo)\n",
    "    xlb = f['bounding box'][ind,0,0]  #límites del bloque del FR\n",
    "    xrb = f['bounding box'][ind,0,1]\n",
    "    ylb = f['bounding box'][ind,1,0]\n",
    "    yrb = f['bounding box'][ind,1,1]\n",
    "    # ---->\n",
    "    # Posición (x,y)\n",
    "    celx = xlb+xid*(xrb-xlb)/nxb\n",
    "    cely = ylb+yid*(yrb-ylb)/nyb\n",
    "\n",
    "    # ---->\n",
    "    return [i*20, celx*10**(-8), cely*10**(-8), Bmax]"
   ]
  },
  {
   "cell_type": "code",
   "execution_count": null,
   "metadata": {},
   "outputs": [],
   "source": [
    "%%timeit \n",
    "out = open('b2y280x2fC_Alg.txt', 'w')\n",
    "for i in range(201):\n",
    "    t, x, y, Bmax = tray_1(i)\n",
    "    out.write(\"%d \\t %f \\t %f \\t %f \\n\" %(t, x, y, Bmax)) \n",
    "out.close()"
   ]
  },
  {
   "cell_type": "markdown",
   "metadata": {},
   "source": [
    "La función **unravel_index** no es soportada por Numba ya que devuelve tuplas. Se reescribe esta función manualmente y específicamente para las 3 dimensiones del problema (n, x, y) y se aplican otras mejoras más en el algoritmo.\n",
    "Estas mejoras por ejemplo evitan re-calcular nxb y nyb ya que son cantidades fijas durante toda la simulación. Además se define la variable **'bounding box'** para localizar la memoria. "
   ]
  },
  {
   "cell_type": "code",
   "execution_count": null,
   "metadata": {},
   "outputs": [],
   "source": [
    "path='b2y280x2fC'\n",
    "g = h5py.File(path+'/AAA_cme_hdf5_plt_cnt_0000','r')\n",
    "nx  = list(g['integer scalars'][0])[1]     # Número de celdas en x\n",
    "ny  = list(g['integer scalars'][1])[1]     # Número de celdas en y"
   ]
  },
  {
   "cell_type": "markdown",
   "metadata": {},
   "source": [
    "Las funciones **tray_2** con **MaxIdx_n** son las utilizadas para Py$_{A2}$ y Py$_\\textrm{N+A2}$ (cuando los decoradores de Numba no están comentados)"
   ]
  },
  {
   "cell_type": "code",
   "execution_count": null,
   "metadata": {},
   "outputs": [],
   "source": [
    "#@njit ó @njit(parallel=True) ó @njit(fastmath=True) ó @njit(parallel=True,fastmath=True) \n",
    "def MaxIdx_n(a):\n",
    "    ind = np.argmax(a)\n",
    "    out = np.ones(3,dtype=np.intc)\n",
    "    for i in range(3):\n",
    "        dim = a.shape[2-i]\n",
    "        out[2-i] = ind % dim\n",
    "        ind = ind // dim\n",
    "    return out  \n",
    "#@jit\n",
    "def tray_2(i,path=path,nxb=nx,nyb=ny):\n",
    "    f      = h5py.File(path+'/AAA_cme_hdf5_plt_cnt_{:04d}'.format(i), 'r')        \n",
    "    # ---->\n",
    "    Bz   = np.abs(f['magz'][:,0,:,:]) # Campo |Bz| \n",
    "    # ---->\n",
    "    # Indice, posición y x del bloque con Bz máximo.\n",
    "    ind, yid, xid = MaxIdx_n(Bz) \n",
    "    # ---->\n",
    "    bb  = f['bounding box'][ind,:,:]\n",
    "    xlb = bb[0,0]  #límites del bloque \n",
    "    xrb = bb[0,1]\n",
    "    ylb = bb[1,0]\n",
    "    yrb = bb[1,1]\n",
    "    # ---->\n",
    "    # Posición (x,y)\n",
    "    celx = xlb+xid*(xrb-xlb)/nxb\n",
    "    cely = ylb+yid*(yrb-ylb)/nyb    \n",
    "    # ---->\n",
    "    \n",
    "    return [i*20, celx*10**(-8), cely*10**(-8), Bz[ind,yid,xid]]"
   ]
  },
  {
   "cell_type": "code",
   "execution_count": null,
   "metadata": {},
   "outputs": [],
   "source": [
    "%%timeit \n",
    "out = open('b2y280x2fC_Alg2.txt', 'w')\n",
    "for i in range(201):\n",
    "    t, x, y, Bmax = tray_2(i)\n",
    "    out.write(\"%d \\t %f \\t %f \\t %f \\n\" %(t, x, y, Bmax)) \n",
    "out.close()"
   ]
  },
  {
   "cell_type": "markdown",
   "metadata": {},
   "source": [
    "Para las corridas en paralelo se define un vector donde se guardan las salidas, una lista *ies* para el PoolExecutor de la librería **concurrent.futures** y el número *a* para el Pool.map de **multiprocessing** y Parallel de **Joblib**.\n",
    "\n",
    "Se usa la función **tray_2** sin los decoradores de Numba ya que empeoran la *performance* en la corrida sobre varios procesadores."
   ]
  },
  {
   "cell_type": "code",
   "execution_count": null,
   "metadata": {},
   "outputs": [],
   "source": [
    "vec = np.zeros((201,4),dtype=np.float32)\n",
    "ies = list(range(201))\n",
    "a   = 201"
   ]
  },
  {
   "cell_type": "code",
   "execution_count": null,
   "metadata": {},
   "outputs": [],
   "source": [
    "%%timeit\n",
    "#multiprocessing\n",
    "with Pool(processes=1) as pool:\n",
    "    results = pool.map(tray_2, range(a))\n",
    "vec= [result[:] for result in results]\n",
    "np.savetxt('b2y280x2fC_parM.txt', vec, fmt='%e')"
   ]
  },
  {
   "cell_type": "code",
   "execution_count": null,
   "metadata": {},
   "outputs": [],
   "source": [
    "%%timeit\n",
    "#concurrent.futures\n",
    "with PE(max_workers=1) as exce:\n",
    "    results = exce.map(tray_2, ies)\n",
    "vec= [result[:] for result in results]\n",
    "np.savetxt('b2y280x2fC_parCF.txt', vec, fmt='%e')"
   ]
  },
  {
   "cell_type": "code",
   "execution_count": null,
   "metadata": {},
   "outputs": [],
   "source": [
    "%%timeit\n",
    "#Joblib\n",
    "vec = Parallel(n_jobs=1)(\n",
    "...     delayed(tray_2)(i) for i in range(a))\n",
    "np.savetxt('b2y280x2fC_parJ.txt', vec, fmt='%e')"
   ]
  }
 ],
 "metadata": {
  "kernelspec": {
   "display_name": "Python 3 (ipykernel)",
   "language": "python",
   "name": "python3"
  },
  "language_info": {
   "codemirror_mode": {
    "name": "ipython",
    "version": 3
   },
   "file_extension": ".py",
   "mimetype": "text/x-python",
   "name": "python",
   "nbconvert_exporter": "python",
   "pygments_lexer": "ipython3",
   "version": "3.7.4"
  }
 },
 "nbformat": 4,
 "nbformat_minor": 2
}
